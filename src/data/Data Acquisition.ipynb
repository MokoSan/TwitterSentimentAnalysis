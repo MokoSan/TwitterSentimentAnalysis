{
 "cells": [
  {
   "cell_type": "markdown",
   "metadata": {},
   "source": [
    "# Data Acquisition"
   ]
  },
  {
   "cell_type": "markdown",
   "metadata": {},
   "source": [
    "## Introduction"
   ]
  },
  {
   "cell_type": "markdown",
   "metadata": {},
   "source": [
    "The two datasets we will be dealing with are the following:\n",
    "\n",
    "1. __Trump's Tweets__: Starting from late 2016 till April 2018. \n",
    "2. __SPY's Historical Price__: The movements of the SPY within the same time period.  "
   ]
  },
  {
   "cell_type": "markdown",
   "metadata": {},
   "source": [
    "## Common Libraries"
   ]
  },
  {
   "cell_type": "code",
   "execution_count": 221,
   "metadata": {},
   "outputs": [],
   "source": [
    "# For Trump's Tweets\n",
    "import re\n",
    "import tweepy\n",
    "import csv\n",
    "from nltk.sentiment.vader import SentimentIntensityAnalyzer    \n",
    "\n",
    "# For SPY Data\n",
    "from datetime import datetime\n",
    "from pandas import DataFrame, to_numeric, to_datetime, Grouper, concat \n",
    "import pandas_datareader.data as dr"
   ]
  },
  {
   "cell_type": "markdown",
   "metadata": {},
   "source": [
    "## 1. Trump's Tweets"
   ]
  },
  {
   "cell_type": "markdown",
   "metadata": {},
   "source": [
    "### User Credentials from Twitter"
   ]
  },
  {
   "cell_type": "code",
   "execution_count": 94,
   "metadata": {},
   "outputs": [],
   "source": [
    "# Variables that contains the user credentials to access Twitter API \n",
    "ACCESS_TOKEN        = 'Nothing'\n",
    "ACCESS_TOKEN_SECRET = 'to'\n",
    "CONSUMER_KEY        = 'see'\n",
    "CONSUMER_SECRET     = 'here.'"
   ]
  },
  {
   "cell_type": "markdown",
   "metadata": {},
   "source": [
    "### Authentication "
   ]
  },
  {
   "cell_type": "code",
   "execution_count": 95,
   "metadata": {},
   "outputs": [],
   "source": [
    "def auth(): \n",
    "    oauth = tweepy.OAuthHandler( CONSUMER_KEY, CONSUMER_SECRET )\n",
    "    oauth.set_access_token( ACCESS_TOKEN, ACCESS_TOKEN_SECRET ) \n",
    "    return oauth"
   ]
  },
  {
   "cell_type": "markdown",
   "metadata": {},
   "source": [
    "### Getting All Tweets for Trump"
   ]
  },
  {
   "cell_type": "code",
   "execution_count": 99,
   "metadata": {},
   "outputs": [
    {
     "name": "stdout",
     "output_type": "stream",
     "text": [
      "400 tweets downloaded so far.\n",
      "600 tweets downloaded so far.\n",
      "800 tweets downloaded so far.\n",
      "997 tweets downloaded so far.\n",
      "1197 tweets downloaded so far.\n",
      "1397 tweets downloaded so far.\n",
      "1596 tweets downloaded so far.\n",
      "1796 tweets downloaded so far.\n",
      "1996 tweets downloaded so far.\n",
      "2196 tweets downloaded so far.\n",
      "2396 tweets downloaded so far.\n",
      "2595 tweets downloaded so far.\n",
      "2795 tweets downloaded so far.\n",
      "2995 tweets downloaded so far.\n",
      "3195 tweets downloaded so far.\n",
      "3240 tweets downloaded so far.\n",
      "3240 tweets downloaded so far.\n"
     ]
    }
   ],
   "source": [
    "def get_all_tweets( screen_name ):\n",
    "    api = tweepy.API( auth() )\n",
    "    all_tweets = []\n",
    "\n",
    "    # Get the 200 Most Recent Tweets.\n",
    "    new_tweets = api.user_timeline( screen_name = screen_name, \n",
    "                                    count       = 200 )\n",
    "    all_tweets.extend( new_tweets )\n",
    "    \n",
    "    # Save the id of the oldest tweet less one\n",
    "    oldest_tweet_id = all_tweets[ -1 ].id - 1\n",
    "\n",
    "    # Let's get the most recent 4000 tweets. \n",
    "    while len( new_tweets ) > 0:\n",
    "        \n",
    "        # All Subsequent requests use the max_id param to prevent duplicates\n",
    "        new_tweets = api.user_timeline( screen_name = screen_name, \n",
    "                                        count       = 200,\n",
    "                                        max_id      = oldest_tweet_id, \n",
    "                                        tweet_mode  = 'extended' ) \n",
    "        \n",
    "        all_tweets.extend( new_tweets )\n",
    "        \n",
    "        # Update the id of the oldest tweet less one\n",
    "        oldest_tweet_id = all_tweets[ -1 ].id - 1\n",
    "        \n",
    "        print( f'{ len(all_tweets)} tweets downloaded so far.') \n",
    "        \n",
    "    return all_tweets\n",
    "\n",
    "donald_tweets = get_all_tweets( 'realDonaldTrump' )"
   ]
  },
  {
   "cell_type": "code",
   "execution_count": 101,
   "metadata": {},
   "outputs": [
    {
     "name": "stdout",
     "output_type": "stream",
     "text": [
      "['Looks like OPEC is at it again. With record amounts of Oil all over the '\n",
      " 'place, including the fully loaded ships at… https://t.co/l5MMjmtI14',\n",
      " 'Nancy Pelosi is going absolutely crazy about the big Tax Cuts given to the '\n",
      " 'American People by the Republicans...got… https://t.co/0REgmJNMqT',\n",
      " 'So exciting! I have agreed to be the Commencement Speaker at our GREAT Naval '\n",
      " 'Academy on May 25th in Annapolis, Mary… https://t.co/L9iZ6RS3ft',\n",
      " 'So General Michael Flynn’s life can be totally destroyed while Shadey James '\n",
      " 'Comey can Leak and Lie and make lots of… https://t.co/q1lyKyyeYI',\n",
      " 'James Comey Memos just out and show clearly that there was NO COLLUSION and '\n",
      " 'NO OBSTRUCTION. Also, he leaked classif… https://t.co/YfMYBrTkza']\n"
     ]
    }
   ],
   "source": [
    "import pprint\n",
    "\n",
    "# Let's print the text of the first 5 tweets.\n",
    "pprint.pprint( [ t.text  for t in donald_tweets[ : 5 ]] )"
   ]
  },
  {
   "cell_type": "markdown",
   "metadata": {},
   "source": [
    "### Tranforming the Tweets  "
   ]
  },
  {
   "cell_type": "markdown",
   "metadata": {},
   "source": [
    "__Helper Functions__ "
   ]
  },
  {
   "cell_type": "code",
   "execution_count": 107,
   "metadata": {},
   "outputs": [],
   "source": [
    "sid = SentimentIntensityAnalyzer()\n",
    "\n",
    "def analyze_sentiment( input_tweet ):\n",
    "    return sid.polarity_scores( input_tweet )\n",
    "\n",
    "def clean_tweet( input_tweet ):\n",
    "    return ' '.join(re.sub( \"(@[A-Za-z0-9]+)|([^0-9A-Za-z \\t])|(\\w+:\\/\\/\\S+)\",\n",
    "                            \" \", \n",
    "                            input_tweet ).split() )\n",
    "\n",
    "def get_tweet_text( input_tweet ):\n",
    "    text = \"\"\n",
    "\n",
    "    if hasattr( input_tweet, 'full_text' ):\n",
    "        return clean_tweet( input_tweet.full_text )\n",
    "\n",
    "    elif hasattr( input_tweet, 'fulltext' ):\n",
    "        return clean_tweet( input_tweet.fulltext )\n",
    "\n",
    "    elif hasattr( input_tweet, 'text' ):\n",
    "        return clean_tweet( input_tweet.text )\n",
    "\n",
    "    else:\n",
    "        return None"
   ]
  },
  {
   "cell_type": "markdown",
   "metadata": {},
   "source": [
    "__Tranformation Logic__"
   ]
  },
  {
   "cell_type": "code",
   "execution_count": 191,
   "metadata": {},
   "outputs": [
    {
     "data": {
      "text/html": [
       "<div>\n",
       "<style scoped>\n",
       "    .dataframe tbody tr th:only-of-type {\n",
       "        vertical-align: middle;\n",
       "    }\n",
       "\n",
       "    .dataframe tbody tr th {\n",
       "        vertical-align: top;\n",
       "    }\n",
       "\n",
       "    .dataframe thead th {\n",
       "        text-align: right;\n",
       "    }\n",
       "</style>\n",
       "<table border=\"1\" class=\"dataframe\">\n",
       "  <thead>\n",
       "    <tr style=\"text-align: right;\">\n",
       "      <th></th>\n",
       "      <th>date</th>\n",
       "      <th>Cleaned Tweet</th>\n",
       "      <th>Sentiment Score</th>\n",
       "    </tr>\n",
       "  </thead>\n",
       "  <tbody>\n",
       "    <tr>\n",
       "      <th>0</th>\n",
       "      <td>2018-04-20</td>\n",
       "      <td>Looks like OPEC is at it again With record amo...</td>\n",
       "      <td>0.3612</td>\n",
       "    </tr>\n",
       "    <tr>\n",
       "      <th>1</th>\n",
       "      <td>2018-04-20</td>\n",
       "      <td>Nancy Pelosi is going absolutely crazy about t...</td>\n",
       "      <td>-0.5984</td>\n",
       "    </tr>\n",
       "    <tr>\n",
       "      <th>2</th>\n",
       "      <td>2018-04-20</td>\n",
       "      <td>So exciting I have agreed to be the Commenceme...</td>\n",
       "      <td>0.8931</td>\n",
       "    </tr>\n",
       "    <tr>\n",
       "      <th>3</th>\n",
       "      <td>2018-04-20</td>\n",
       "      <td>So General Michael Flynn s life can be totally...</td>\n",
       "      <td>-0.7089</td>\n",
       "    </tr>\n",
       "    <tr>\n",
       "      <th>4</th>\n",
       "      <td>2018-04-20</td>\n",
       "      <td>James Comey Memos just out and show clearly th...</td>\n",
       "      <td>-0.6669</td>\n",
       "    </tr>\n",
       "  </tbody>\n",
       "</table>\n",
       "</div>"
      ],
      "text/plain": [
       "         date                                      Cleaned Tweet  \\\n",
       "0  2018-04-20  Looks like OPEC is at it again With record amo...   \n",
       "1  2018-04-20  Nancy Pelosi is going absolutely crazy about t...   \n",
       "2  2018-04-20  So exciting I have agreed to be the Commenceme...   \n",
       "3  2018-04-20  So General Michael Flynn s life can be totally...   \n",
       "4  2018-04-20  James Comey Memos just out and show clearly th...   \n",
       "\n",
       "   Sentiment Score  \n",
       "0           0.3612  \n",
       "1          -0.5984  \n",
       "2           0.8931  \n",
       "3          -0.7089  \n",
       "4          -0.6669  "
      ]
     },
     "execution_count": 191,
     "metadata": {},
     "output_type": "execute_result"
    }
   ],
   "source": [
    "def transform_tweets( input_tweets ):\n",
    "    output_tweets = [] \n",
    "        \n",
    "    for t in donald_tweets:\n",
    "        compound_value = 0\n",
    "        text           = get_tweet_text( t )\n",
    "        \n",
    "        if ( text == None ):\n",
    "            print( f'No text found for: User: {t.user.name} Tweet @ {t.created_at}')\n",
    "            continue\n",
    "        else:\n",
    "             compound_value = analyze_sentiment( text )[ 'compound' ] \n",
    "            \n",
    "        output_tweets.append( [ t.created_at.date(), text, compound_value ])\n",
    "    return DataFrame( data    = output_tweets, \n",
    "                      columns = [ \"date\", \n",
    "                                  \"Cleaned Tweet\", \n",
    "                                  \"Sentiment Score\" ])\n",
    "            \n",
    "tweets_df = transform_tweets( donald_tweets ) \n",
    "tweets_df.head()"
   ]
  },
  {
   "cell_type": "markdown",
   "metadata": {},
   "source": [
    "### Saving the Tweets"
   ]
  },
  {
   "cell_type": "code",
   "execution_count": 187,
   "metadata": {},
   "outputs": [],
   "source": [
    "def write_tweets( transformed_tweets_df, file_path ):\n",
    "    tweets_df.to_csv( file_path )\n",
    " \n",
    "write_tweets( transformed_tweets_df = tweets_df, \n",
    "              file_path             = '../../data/realDonaldTrump_tweets.csv' )"
   ]
  },
  {
   "cell_type": "markdown",
   "metadata": {},
   "source": [
    "## 2. SPY Movements"
   ]
  },
  {
   "cell_type": "markdown",
   "metadata": {},
   "source": [
    "### Getting the Historical Data"
   ]
  },
  {
   "cell_type": "code",
   "execution_count": 245,
   "metadata": {},
   "outputs": [
    {
     "name": "stdout",
     "output_type": "stream",
     "text": [
      "Getting historical data for: SPY\n",
      "2y\n"
     ]
    },
    {
     "data": {
      "text/html": [
       "<div>\n",
       "<style scoped>\n",
       "    .dataframe tbody tr th:only-of-type {\n",
       "        vertical-align: middle;\n",
       "    }\n",
       "\n",
       "    .dataframe tbody tr th {\n",
       "        vertical-align: top;\n",
       "    }\n",
       "\n",
       "    .dataframe thead th {\n",
       "        text-align: right;\n",
       "    }\n",
       "</style>\n",
       "<table border=\"1\" class=\"dataframe\">\n",
       "  <thead>\n",
       "    <tr style=\"text-align: right;\">\n",
       "      <th></th>\n",
       "      <th>open</th>\n",
       "      <th>high</th>\n",
       "      <th>low</th>\n",
       "      <th>close</th>\n",
       "      <th>volume</th>\n",
       "      <th>Name</th>\n",
       "    </tr>\n",
       "    <tr>\n",
       "      <th>date</th>\n",
       "      <th></th>\n",
       "      <th></th>\n",
       "      <th></th>\n",
       "      <th></th>\n",
       "      <th></th>\n",
       "      <th></th>\n",
       "    </tr>\n",
       "  </thead>\n",
       "  <tbody>\n",
       "    <tr>\n",
       "      <th>2016-12-30</th>\n",
       "      <td>219.5765</td>\n",
       "      <td>219.6742</td>\n",
       "      <td>217.6223</td>\n",
       "      <td>218.4040</td>\n",
       "      <td>108998328</td>\n",
       "      <td>SPY</td>\n",
       "    </tr>\n",
       "    <tr>\n",
       "      <th>2017-01-03</th>\n",
       "      <td>219.8794</td>\n",
       "      <td>220.6512</td>\n",
       "      <td>218.7496</td>\n",
       "      <td>220.0748</td>\n",
       "      <td>91366522</td>\n",
       "      <td>SPY</td>\n",
       "    </tr>\n",
       "    <tr>\n",
       "      <th>2017-01-04</th>\n",
       "      <td>220.4461</td>\n",
       "      <td>221.5501</td>\n",
       "      <td>220.4363</td>\n",
       "      <td>221.3840</td>\n",
       "      <td>78744433</td>\n",
       "      <td>SPY</td>\n",
       "    </tr>\n",
       "    <tr>\n",
       "      <th>2017-01-05</th>\n",
       "      <td>221.0812</td>\n",
       "      <td>221.3840</td>\n",
       "      <td>220.3093</td>\n",
       "      <td>221.2082</td>\n",
       "      <td>78379012</td>\n",
       "      <td>SPY</td>\n",
       "    </tr>\n",
       "    <tr>\n",
       "      <th>2017-01-06</th>\n",
       "      <td>221.3352</td>\n",
       "      <td>222.5272</td>\n",
       "      <td>220.7196</td>\n",
       "      <td>221.9996</td>\n",
       "      <td>71559922</td>\n",
       "      <td>SPY</td>\n",
       "    </tr>\n",
       "  </tbody>\n",
       "</table>\n",
       "</div>"
      ],
      "text/plain": [
       "                open      high       low     close     volume Name\n",
       "date                                                              \n",
       "2016-12-30  219.5765  219.6742  217.6223  218.4040  108998328  SPY\n",
       "2017-01-03  219.8794  220.6512  218.7496  220.0748   91366522  SPY\n",
       "2017-01-04  220.4461  221.5501  220.4363  221.3840   78744433  SPY\n",
       "2017-01-05  221.0812  221.3840  220.3093  221.2082   78379012  SPY\n",
       "2017-01-06  221.3352  222.5272  220.7196  221.9996   71559922  SPY"
      ]
     },
     "execution_count": 245,
     "metadata": {},
     "output_type": "execute_result"
    }
   ],
   "source": [
    "def download_historical_prices_for_instrument( ticker ):\n",
    "    try:\n",
    "        now_time         = datetime.now()\n",
    "        print(f\"Getting historical data for: {ticker}\")\n",
    "        start_time       = datetime(2016, 12 , 30)\n",
    "        stock_df         = dr.DataReader( ticker,'iex', start_time, now_time)\n",
    "        stock_df['Name'] = ticker\n",
    "        return stock_df\n",
    "    \n",
    "    except Exception as e:\n",
    "        print(f'Unable to get data for: {ticker} because of Error: {e} ')\n",
    "        \n",
    "spy_df = download_historical_prices_for_instrument( 'SPY' )\n",
    "spy_df.head()"
   ]
  },
  {
   "cell_type": "markdown",
   "metadata": {},
   "source": [
    "### Adding the Price Range in the DataFrame "
   ]
  },
  {
   "cell_type": "code",
   "execution_count": 252,
   "metadata": {},
   "outputs": [
    {
     "data": {
      "text/html": [
       "<div>\n",
       "<style scoped>\n",
       "    .dataframe tbody tr th:only-of-type {\n",
       "        vertical-align: middle;\n",
       "    }\n",
       "\n",
       "    .dataframe tbody tr th {\n",
       "        vertical-align: top;\n",
       "    }\n",
       "\n",
       "    .dataframe thead th {\n",
       "        text-align: right;\n",
       "    }\n",
       "</style>\n",
       "<table border=\"1\" class=\"dataframe\">\n",
       "  <thead>\n",
       "    <tr style=\"text-align: right;\">\n",
       "      <th></th>\n",
       "      <th>open</th>\n",
       "      <th>high</th>\n",
       "      <th>low</th>\n",
       "      <th>close</th>\n",
       "      <th>volume</th>\n",
       "      <th>Name</th>\n",
       "      <th>range</th>\n",
       "    </tr>\n",
       "    <tr>\n",
       "      <th>date</th>\n",
       "      <th></th>\n",
       "      <th></th>\n",
       "      <th></th>\n",
       "      <th></th>\n",
       "      <th></th>\n",
       "      <th></th>\n",
       "      <th></th>\n",
       "    </tr>\n",
       "  </thead>\n",
       "  <tbody>\n",
       "    <tr>\n",
       "      <th>2018-04-19</th>\n",
       "      <td>269.65</td>\n",
       "      <td>269.88</td>\n",
       "      <td>267.72</td>\n",
       "      <td>268.89</td>\n",
       "      <td>77655909</td>\n",
       "      <td>SPY</td>\n",
       "      <td>2.16</td>\n",
       "    </tr>\n",
       "    <tr>\n",
       "      <th>2018-04-18</th>\n",
       "      <td>270.69</td>\n",
       "      <td>271.30</td>\n",
       "      <td>269.87</td>\n",
       "      <td>270.39</td>\n",
       "      <td>57303857</td>\n",
       "      <td>SPY</td>\n",
       "      <td>1.43</td>\n",
       "    </tr>\n",
       "    <tr>\n",
       "      <th>2018-04-17</th>\n",
       "      <td>269.33</td>\n",
       "      <td>270.87</td>\n",
       "      <td>268.75</td>\n",
       "      <td>270.19</td>\n",
       "      <td>64682036</td>\n",
       "      <td>SPY</td>\n",
       "      <td>2.12</td>\n",
       "    </tr>\n",
       "    <tr>\n",
       "      <th>2018-04-16</th>\n",
       "      <td>267.00</td>\n",
       "      <td>268.20</td>\n",
       "      <td>266.07</td>\n",
       "      <td>267.33</td>\n",
       "      <td>63405287</td>\n",
       "      <td>SPY</td>\n",
       "      <td>2.13</td>\n",
       "    </tr>\n",
       "    <tr>\n",
       "      <th>2018-04-13</th>\n",
       "      <td>267.41</td>\n",
       "      <td>267.54</td>\n",
       "      <td>264.01</td>\n",
       "      <td>265.15</td>\n",
       "      <td>85079176</td>\n",
       "      <td>SPY</td>\n",
       "      <td>3.53</td>\n",
       "    </tr>\n",
       "  </tbody>\n",
       "</table>\n",
       "</div>"
      ],
      "text/plain": [
       "              open    high     low   close    volume Name  range\n",
       "date                                                            \n",
       "2018-04-19  269.65  269.88  267.72  268.89  77655909  SPY   2.16\n",
       "2018-04-18  270.69  271.30  269.87  270.39  57303857  SPY   1.43\n",
       "2018-04-17  269.33  270.87  268.75  270.19  64682036  SPY   2.12\n",
       "2018-04-16  267.00  268.20  266.07  267.33  63405287  SPY   2.13\n",
       "2018-04-13  267.41  267.54  264.01  265.15  85079176  SPY   3.53"
      ]
     },
     "execution_count": 252,
     "metadata": {},
     "output_type": "execute_result"
    }
   ],
   "source": [
    "spy_df['range'] = ( to_numeric( spy_df['high'] ) - \n",
    "                    to_numeric( spy_df['low'] ))\n",
    "spy_df.sort_index( ascending=False, inplace= True ) \n",
    "spy_df.index = to_datetime( spy_df.index )\n",
    "spy_df.head()"
   ]
  },
  {
   "cell_type": "markdown",
   "metadata": {},
   "source": [
    "#  Combining the Two DataFrames"
   ]
  },
  {
   "cell_type": "markdown",
   "metadata": {},
   "source": [
    "### Sentiment Score Grouped by Date "
   ]
  },
  {
   "cell_type": "code",
   "execution_count": 256,
   "metadata": {
    "scrolled": true
   },
   "outputs": [
    {
     "data": {
      "text/html": [
       "<div>\n",
       "<style scoped>\n",
       "    .dataframe tbody tr th:only-of-type {\n",
       "        vertical-align: middle;\n",
       "    }\n",
       "\n",
       "    .dataframe tbody tr th {\n",
       "        vertical-align: top;\n",
       "    }\n",
       "\n",
       "    .dataframe thead th {\n",
       "        text-align: right;\n",
       "    }\n",
       "</style>\n",
       "<table border=\"1\" class=\"dataframe\">\n",
       "  <thead>\n",
       "    <tr style=\"text-align: right;\">\n",
       "      <th></th>\n",
       "      <th>Sentiment Score</th>\n",
       "    </tr>\n",
       "    <tr>\n",
       "      <th>date</th>\n",
       "      <th></th>\n",
       "    </tr>\n",
       "  </thead>\n",
       "  <tbody>\n",
       "    <tr>\n",
       "      <th>2018-04-20</th>\n",
       "      <td>-0.143980</td>\n",
       "    </tr>\n",
       "    <tr>\n",
       "      <th>2018-04-19</th>\n",
       "      <td>0.507986</td>\n",
       "    </tr>\n",
       "    <tr>\n",
       "      <th>2018-04-18</th>\n",
       "      <td>0.043463</td>\n",
       "    </tr>\n",
       "    <tr>\n",
       "      <th>2018-04-17</th>\n",
       "      <td>0.153062</td>\n",
       "    </tr>\n",
       "    <tr>\n",
       "      <th>2018-04-16</th>\n",
       "      <td>0.023450</td>\n",
       "    </tr>\n",
       "  </tbody>\n",
       "</table>\n",
       "</div>"
      ],
      "text/plain": [
       "            Sentiment Score\n",
       "date                       \n",
       "2018-04-20        -0.143980\n",
       "2018-04-19         0.507986\n",
       "2018-04-18         0.043463\n",
       "2018-04-17         0.153062\n",
       "2018-04-16         0.023450"
      ]
     },
     "execution_count": 256,
     "metadata": {},
     "output_type": "execute_result"
    }
   ],
   "source": [
    "sentiment_score_df = tweets_df.groupby( Grouper( 'date' )).mean()\n",
    "sentiment_score_df.head()"
   ]
  },
  {
   "cell_type": "markdown",
   "metadata": {},
   "source": [
    "### Combining the Two Dataframes"
   ]
  },
  {
   "cell_type": "code",
   "execution_count": 257,
   "metadata": {},
   "outputs": [
    {
     "data": {
      "text/html": [
       "<div>\n",
       "<style scoped>\n",
       "    .dataframe tbody tr th:only-of-type {\n",
       "        vertical-align: middle;\n",
       "    }\n",
       "\n",
       "    .dataframe tbody tr th {\n",
       "        vertical-align: top;\n",
       "    }\n",
       "\n",
       "    .dataframe thead th {\n",
       "        text-align: right;\n",
       "    }\n",
       "</style>\n",
       "<table border=\"1\" class=\"dataframe\">\n",
       "  <thead>\n",
       "    <tr style=\"text-align: right;\">\n",
       "      <th></th>\n",
       "      <th>open</th>\n",
       "      <th>high</th>\n",
       "      <th>low</th>\n",
       "      <th>close</th>\n",
       "      <th>volume</th>\n",
       "      <th>Name</th>\n",
       "      <th>range</th>\n",
       "      <th>Sentiment Score</th>\n",
       "    </tr>\n",
       "    <tr>\n",
       "      <th>date</th>\n",
       "      <th></th>\n",
       "      <th></th>\n",
       "      <th></th>\n",
       "      <th></th>\n",
       "      <th></th>\n",
       "      <th></th>\n",
       "      <th></th>\n",
       "      <th></th>\n",
       "    </tr>\n",
       "  </thead>\n",
       "  <tbody>\n",
       "    <tr>\n",
       "      <th>2018-04-19</th>\n",
       "      <td>269.65</td>\n",
       "      <td>269.88</td>\n",
       "      <td>267.72</td>\n",
       "      <td>268.89</td>\n",
       "      <td>77655909</td>\n",
       "      <td>SPY</td>\n",
       "      <td>2.16</td>\n",
       "      <td>0.507986</td>\n",
       "    </tr>\n",
       "    <tr>\n",
       "      <th>2018-04-18</th>\n",
       "      <td>270.69</td>\n",
       "      <td>271.30</td>\n",
       "      <td>269.87</td>\n",
       "      <td>270.39</td>\n",
       "      <td>57303857</td>\n",
       "      <td>SPY</td>\n",
       "      <td>1.43</td>\n",
       "      <td>0.043463</td>\n",
       "    </tr>\n",
       "    <tr>\n",
       "      <th>2018-04-17</th>\n",
       "      <td>269.33</td>\n",
       "      <td>270.87</td>\n",
       "      <td>268.75</td>\n",
       "      <td>270.19</td>\n",
       "      <td>64682036</td>\n",
       "      <td>SPY</td>\n",
       "      <td>2.12</td>\n",
       "      <td>0.153062</td>\n",
       "    </tr>\n",
       "    <tr>\n",
       "      <th>2018-04-16</th>\n",
       "      <td>267.00</td>\n",
       "      <td>268.20</td>\n",
       "      <td>266.07</td>\n",
       "      <td>267.33</td>\n",
       "      <td>63405287</td>\n",
       "      <td>SPY</td>\n",
       "      <td>2.13</td>\n",
       "      <td>0.023450</td>\n",
       "    </tr>\n",
       "    <tr>\n",
       "      <th>2018-04-13</th>\n",
       "      <td>267.41</td>\n",
       "      <td>267.54</td>\n",
       "      <td>264.01</td>\n",
       "      <td>265.15</td>\n",
       "      <td>85079176</td>\n",
       "      <td>SPY</td>\n",
       "      <td>3.53</td>\n",
       "      <td>-0.256667</td>\n",
       "    </tr>\n",
       "  </tbody>\n",
       "</table>\n",
       "</div>"
      ],
      "text/plain": [
       "              open    high     low   close    volume Name  range  \\\n",
       "date                                                               \n",
       "2018-04-19  269.65  269.88  267.72  268.89  77655909  SPY   2.16   \n",
       "2018-04-18  270.69  271.30  269.87  270.39  57303857  SPY   1.43   \n",
       "2018-04-17  269.33  270.87  268.75  270.19  64682036  SPY   2.12   \n",
       "2018-04-16  267.00  268.20  266.07  267.33  63405287  SPY   2.13   \n",
       "2018-04-13  267.41  267.54  264.01  265.15  85079176  SPY   3.53   \n",
       "\n",
       "            Sentiment Score  \n",
       "date                         \n",
       "2018-04-19         0.507986  \n",
       "2018-04-18         0.043463  \n",
       "2018-04-17         0.153062  \n",
       "2018-04-16         0.023450  \n",
       "2018-04-13        -0.256667  "
      ]
     },
     "execution_count": 257,
     "metadata": {},
     "output_type": "execute_result"
    }
   ],
   "source": [
    "combined_df = merge( spy_df, sentiment_score_df, \n",
    "                     how='inner', \n",
    "                     left_index=True, \n",
    "                     right_index=True )\n",
    "combined_df.head()"
   ]
  }
 ],
 "metadata": {
  "kernelspec": {
   "display_name": "Python 3",
   "language": "python",
   "name": "python3"
  },
  "language_info": {
   "codemirror_mode": {
    "name": "ipython",
    "version": 3
   },
   "file_extension": ".py",
   "mimetype": "text/x-python",
   "name": "python",
   "nbconvert_exporter": "python",
   "pygments_lexer": "ipython3",
   "version": "3.6.4"
  }
 },
 "nbformat": 4,
 "nbformat_minor": 2
}
